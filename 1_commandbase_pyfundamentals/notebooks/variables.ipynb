{
 "cells": [
  {
   "cell_type": "markdown",
   "metadata": {},
   "source": [
    "## Variáveis em Python\n",
    "\n",
    "##### por:\n",
    "  <p align=\"left\">\n",
    "    <a href=\"https://bit.ly/3qNXHUN\"><img src=\"https://img.shields.io/badge/-Wilkne%20Maia-0077B5?style=flat&logo=Linkedin&logoColor=white\" alt=\"LinkedIn\"/></a>\n",
    "    <a href=\"https://bit.ly/3CrCmm7\"><img src=\"https://img.shields.io/badge/wilknemaia-D16f37?style=flat&logo=Stackoverflow&logoColor=white\" alt=\"Stack Overflow\"/></a>\n",
    "    <a href=\"https://bit.ly/3HKsmIT\"><img src=\"https://img.shields.io/badge/-@wilkne.maia-%2312100E?style=flat&logo=medium&logoColor=white\" alt=\"Medium\"/></a>\n",
    "    <a href=\"mailto:wilknemaia@gmail.com\"><img src=\"https://img.shields.io/badge/-wilknemaia@gmail.com-D14836?style=flat&logo=Gmail&logoColor=white\" alt=\"Gmail\"/></a>\n",
    "  </p>\n",
    "\n",
    "\n",
    "##### Tecnologias & Ferramentas:\n",
    "\n",
    "<p align=\"left\">\n",
    "  <a href=\"https://developer.mozilla.org/pt-BR/docs/Web/HTML\">\n",
    "  <img src=\"https://raw.githubusercontent.com/devicons/devicon/master/icons/python/python-original-wordmark.svg\" alt=\"Python\" width=\"40px\"/></a><a href=\"https://www.jupyter.org/\">\n",
    "    <img src=\"https://raw.githubusercontent.com/devicons/devicon/master/icons/jupyter/jupyter-original-wordmark.svg\" alt=\"Jupyter\" width=\"40px\"/></a>\n",
    "    <img src=\"https://raw.githubusercontent.com/devicons/devicon/master/icons/vscode/vscode-original-wordmark.svg\" alt=\"VSCode\" width=\"40px\"/></a>\n",
    "    </p>\n",
    "\n",
    "---\n",
    "\n",
    "Em Python, variáveis são usadas para armazenar valores que podem ser reutilizados ao longo do código.\n",
    "\n",
    "Elas funcionam como etiquetas que damos para objetos, facilitando o acesso e a manipulação desses dados.\n",
    "\n",
    "Diferente de muitas outras linguagens de programação, em Python não é necessário declarar o tipo da variável antecipadamente. Basta atribuir um valor, e a linguagem automaticamente entende o tipo de dado que está sendo utilizado.\n",
    "\n",
    "Pense em uma variável como um “nome” que você dá para um valor ou objeto, tornando seu código mais legível e organizado."
   ]
  },
  {
   "cell_type": "markdown",
   "metadata": {},
   "source": [
    "##### Atribuindo valores a variáveis\n",
    "\n",
    "Em Python, atribuímos valores a variáveis usando o sinal de igual (`=`). Veja um exemplo simples:"
   ]
  },
  {
   "cell_type": "code",
   "execution_count": 5,
   "metadata": {},
   "outputs": [
    {
     "name": "stdout",
     "output_type": "stream",
     "text": [
      "Valor de x: 42\n"
     ]
    }
   ],
   "source": [
    "# Atribuindo o número 42 à variável x\n",
    "x = 42\n",
    "\n",
    "print(\"Valor de x:\", x)"
   ]
  },
  {
   "cell_type": "markdown",
   "metadata": {},
   "source": [
    "Você pode alterar o **valor** de uma variável a qualquer momento. Basta fazer uma nova atribuição, e a variável passará a armazenar o **novo valor**:"
   ]
  },
  {
   "cell_type": "code",
   "execution_count": 6,
   "metadata": {},
   "outputs": [
    {
     "name": "stdout",
     "output_type": "stream",
     "text": [
      "Valor inicial de x: 42\n",
      "Novo valor de x: 100\n"
     ]
    }
   ],
   "source": [
    "print(\"Valor inicial de x:\", x)\n",
    "\n",
    "# Atribuindo um novo valor à variável x\n",
    "x = 100\n",
    "\n",
    "print(\"Novo valor de x:\", x)"
   ]
  }
 ],
 "metadata": {
  "kernelspec": {
   "display_name": ".venv",
   "language": "python",
   "name": "python3"
  },
  "language_info": {
   "codemirror_mode": {
    "name": "ipython",
    "version": 3
   },
   "file_extension": ".py",
   "mimetype": "text/x-python",
   "name": "python",
   "nbconvert_exporter": "python",
   "pygments_lexer": "ipython3",
   "version": "3.13.3"
  }
 },
 "nbformat": 4,
 "nbformat_minor": 2
}
