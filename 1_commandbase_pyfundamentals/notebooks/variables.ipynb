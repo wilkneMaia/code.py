{
 "cells": [
  {
   "cell_type": "markdown",
   "metadata": {},
   "source": [
    "## Variáveis em Python\n",
    "\n",
    "##### por:\n",
    "  <p align=\"left\">\n",
    "    <a href=\"https://bit.ly/3qNXHUN\"><img src=\"https://img.shields.io/badge/-Wilkne%20Maia-0077B5?style=flat&logo=Linkedin&logoColor=white\" alt=\"LinkedIn\"/></a>\n",
    "    <a href=\"https://bit.ly/3CrCmm7\"><img src=\"https://img.shields.io/badge/wilknemaia-D16f37?style=flat&logo=Stackoverflow&logoColor=white\" alt=\"Stack Overflow\"/></a>\n",
    "    <a href=\"https://bit.ly/3HKsmIT\"><img src=\"https://img.shields.io/badge/-@wilkne.maia-%2312100E?style=flat&logo=medium&logoColor=white\" alt=\"Medium\"/></a>\n",
    "    <a href=\"mailto:wilknemaia@gmail.com\"><img src=\"https://img.shields.io/badge/-wilknemaia@gmail.com-D14836?style=flat&logo=Gmail&logoColor=white\" alt=\"Gmail\"/></a>\n",
    "  </p>\n",
    "\n",
    "\n",
    "##### Tecnologias & Ferramentas:\n",
    "\n",
    "<p align=\"left\">\n",
    "  <a href=\"https://developer.mozilla.org/pt-BR/docs/Web/HTML\">\n",
    "  <img src=\"https://raw.githubusercontent.com/devicons/devicon/master/icons/python/python-original-wordmark.svg\" alt=\"Python\" width=\"35px\"/></a><a href=\"https://www.jupyter.org/\">\n",
    "    <img src=\"https://raw.githubusercontent.com/devicons/devicon/master/icons/jupyter/jupyter-original-wordmark.svg\" alt=\"Jupyter\" width=\"35px\"/></a>\n",
    "    <img src=\"https://raw.githubusercontent.com/devicons/devicon/master/icons/vscode/vscode-original-wordmark.svg\" alt=\"VSCode\" width=\"35px\"/></a>\n",
    "    </p>\n",
    "\n",
    "---\n",
    "\n",
    "Em Python, variáveis são usadas para armazenar valores que podem ser reutilizados ao longo do código.\n",
    "\n",
    "Elas funcionam como etiquetas que damos para objetos, facilitando o acesso e a manipulação desses dados.\n",
    "\n",
    "Diferente de muitas outras linguagens de programação, em Python não é necessário declarar o tipo da variável antecipadamente. Basta atribuir um valor, e a linguagem automaticamente entende o tipo de dado que está sendo utilizado.\n",
    "\n",
    "Pense em uma variável como um “nome” que você dá para um valor ou objeto, tornando seu código mais legível e organizado."
   ]
  },
  {
   "cell_type": "markdown",
   "metadata": {},
   "source": [
    "##### Atribuindo valores a variáveis\n",
    "\n",
    "Em Python, atribuímos valores a variáveis usando o sinal de igual (`=`). Veja um exemplo simples:"
   ]
  },
  {
   "cell_type": "code",
   "execution_count": 5,
   "metadata": {},
   "outputs": [
    {
     "name": "stdout",
     "output_type": "stream",
     "text": [
      "Valor de x: 42\n"
     ]
    }
   ],
   "source": [
    "# Atribuindo o número 42 à variável x\n",
    "x = 42\n",
    "\n",
    "print(\"Valor de x:\", x)"
   ]
  },
  {
   "cell_type": "markdown",
   "metadata": {},
   "source": [
    "Você pode alterar o **valor** de uma variável a qualquer momento. Basta fazer uma nova atribuição, e a variável passará a armazenar o **novo valor**:"
   ]
  },
  {
   "cell_type": "code",
   "execution_count": 6,
   "metadata": {},
   "outputs": [
    {
     "name": "stdout",
     "output_type": "stream",
     "text": [
      "Valor inicial de x: 42\n",
      "Novo valor de x: 100\n"
     ]
    }
   ],
   "source": [
    "print(\"Valor inicial de x:\", x)\n",
    "\n",
    "# Atribuindo um novo valor à variável x\n",
    "x = 100\n",
    "\n",
    "print(\"Novo valor de x:\", x)"
   ]
  },
  {
   "cell_type": "markdown",
   "metadata": {},
   "source": [
    "##### Tipos de Variáveis\n",
    "\n",
    "Em Python, as variáveis podem armazenar diferentes tipos de valores, como números inteiros (integers), números decimais (floats), textos (strings) e valores lógicos (booleanos).\n",
    "\n",
    "Veja exemplos práticos de cada tipo:"
   ]
  },
  {
   "cell_type": "markdown",
   "metadata": {},
   "source": [
    "###### Inteiros (integers)\n",
    "Números inteiros são aqueles sem parte decimal."
   ]
  },
  {
   "cell_type": "code",
   "execution_count": 7,
   "metadata": {},
   "outputs": [
    {
     "name": "stdout",
     "output_type": "stream",
     "text": [
      "42\n"
     ]
    }
   ],
   "source": [
    "# Exemplo de variável inteira\n",
    "x = 42\n",
    "print(x)"
   ]
  },
  {
   "cell_type": "markdown",
   "metadata": {},
   "source": [
    "###### Decimais (floats)\n",
    "Números decimais, ou de ponto flutuante, são representados pelo tipo `float`. Use o ponto (.) como separador decimal."
   ]
  },
  {
   "cell_type": "code",
   "execution_count": 8,
   "metadata": {},
   "outputs": [
    {
     "name": "stdout",
     "output_type": "stream",
     "text": [
      "1.75\n"
     ]
    }
   ],
   "source": [
    "# Exemplo de variável float\n",
    "altura = 1.75\n",
    "print(altura)"
   ]
  },
  {
   "cell_type": "markdown",
   "metadata": {},
   "source": [
    "Você também pode converter inteiros ou strings para float usando a função `float()`."
   ]
  },
  {
   "cell_type": "markdown",
   "metadata": {},
   "source": [
    "###### Texto (strings)\n",
    "Strings são sequências de caracteres, usadas para armazenar textos."
   ]
  },
  {
   "cell_type": "code",
   "execution_count": 9,
   "metadata": {},
   "outputs": [
    {
     "name": "stdout",
     "output_type": "stream",
     "text": [
      "Ana\n"
     ]
    }
   ],
   "source": [
    "# Exemplo de variável string\n",
    "nome = \"Ana\"\n",
    "print(nome)"
   ]
  },
  {
   "cell_type": "markdown",
   "metadata": {},
   "source": [
    "###### Booleanos (bool)\n",
    "Variáveis booleanas armazenam apenas dois valores: `True` (verdadeiro) ou `False` (falso)."
   ]
  },
  {
   "cell_type": "code",
   "execution_count": 10,
   "metadata": {},
   "outputs": [
    {
     "name": "stdout",
     "output_type": "stream",
     "text": [
      "True\n"
     ]
    }
   ],
   "source": [
    "# Exemplo de variável booleana\n",
    "aprovado = True\n",
    "print(aprovado)"
   ]
  },
  {
   "cell_type": "markdown",
   "metadata": {},
   "source": [
    "> [!NOTE]\n",
    "> Não coloque aspas em True ou False, pois assim seriam interpretados como strings, não como booleanos"
   ]
  },
  {
   "cell_type": "markdown",
   "metadata": {},
   "source": [
    "##### Verificando o Tipo da Variável\n",
    "\n",
    "Em Python, você pode verificar o tipo de uma variável utilizando a função integrada `type()`. Isso é útil para confirmar que o valor armazenado é realmente do tipo esperado.\n",
    "\n",
    "Veja alguns exemplos:"
   ]
  },
  {
   "cell_type": "code",
   "execution_count": 11,
   "metadata": {},
   "outputs": [
    {
     "name": "stdout",
     "output_type": "stream",
     "text": [
      "<class 'int'>\n",
      "<class 'float'>\n",
      "<class 'str'>\n",
      "<class 'bool'>\n"
     ]
    }
   ],
   "source": [
    "x = 42\n",
    "print(type(x))  # <class 'int'>\n",
    "\n",
    "altura = 1.75\n",
    "print(type(altura))  # <class 'float'>\n",
    "\n",
    "nome = \"Ana\"\n",
    "print(type(nome))  # <class 'str'>\n",
    "\n",
    "aprovado = True\n",
    "print(type(aprovado))  # <class 'bool'>\n"
   ]
  },
  {
   "cell_type": "markdown",
   "metadata": {},
   "source": [
    "Dica: A função `type()` pode ser usada com qualquer variável ou valor em Python."
   ]
  },
  {
   "cell_type": "markdown",
   "metadata": {},
   "source": [
    "Saber o tipo de uma variável é importante porque cada tipo permite operações diferentes e garante que o programa funcione corretamente. Assim, evitamos erros, facilitamos a leitura do código e garantimos que os dados sejam manipulados da maneira certa."
   ]
  }
 ],
 "metadata": {
  "kernelspec": {
   "display_name": ".venv",
   "language": "python",
   "name": "python3"
  },
  "language_info": {
   "codemirror_mode": {
    "name": "ipython",
    "version": 3
   },
   "file_extension": ".py",
   "mimetype": "text/x-python",
   "name": "python",
   "nbconvert_exporter": "python",
   "pygments_lexer": "ipython3",
   "version": "3.13.3"
  }
 },
 "nbformat": 4,
 "nbformat_minor": 2
}
